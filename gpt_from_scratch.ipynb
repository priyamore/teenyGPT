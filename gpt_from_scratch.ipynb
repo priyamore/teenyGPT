{
  "nbformat": 4,
  "nbformat_minor": 0,
  "metadata": {
    "colab": {
      "provenance": [],
      "gpuType": "V28"
    },
    "kernelspec": {
      "name": "python3",
      "display_name": "Python 3"
    },
    "language_info": {
      "name": "python"
    },
    "accelerator": "TPU"
  },
  "cells": [
    {
      "cell_type": "markdown",
      "source": [
        "# Transformer Based Language Model _(character level)_"
      ],
      "metadata": {
        "id": "XzY8dAC0gRNk"
      }
    },
    {
      "cell_type": "markdown",
      "source": [
        "Dataset - tiny shakespeare"
      ],
      "metadata": {
        "id": "dSCuF0JggZZ2"
      }
    },
    {
      "cell_type": "code",
      "execution_count": 1,
      "metadata": {
        "colab": {
          "base_uri": "https://localhost:8080/"
        },
        "id": "_-B25sAsgPSy",
        "outputId": "b5758160-7300-459c-a6c9-1593847dc624"
      },
      "outputs": [
        {
          "output_type": "stream",
          "name": "stdout",
          "text": [
            "--2024-09-24 19:29:05--  https://raw.githubusercontent.com/karpathy/char-rnn/master/data/tinyshakespeare/input.txt\n",
            "Resolving raw.githubusercontent.com (raw.githubusercontent.com)... 185.199.108.133, 185.199.109.133, 185.199.110.133, ...\n",
            "Connecting to raw.githubusercontent.com (raw.githubusercontent.com)|185.199.108.133|:443... connected.\n",
            "HTTP request sent, awaiting response... 200 OK\n",
            "Length: 1115394 (1.1M) [text/plain]\n",
            "Saving to: ‘input.txt’\n",
            "\n",
            "\rinput.txt             0%[                    ]       0  --.-KB/s               \rinput.txt           100%[===================>]   1.06M  --.-KB/s    in 0.06s   \n",
            "\n",
            "2024-09-24 19:29:05 (19.0 MB/s) - ‘input.txt’ saved [1115394/1115394]\n",
            "\n"
          ]
        }
      ],
      "source": [
        "# download the tiny shakespeare dataset\n",
        "!wget https://raw.githubusercontent.com/karpathy/char-rnn/master/data/tinyshakespeare/input.txt"
      ]
    },
    {
      "cell_type": "markdown",
      "source": [
        "### Input\n",
        "\n",
        "Understand and analyse the input"
      ],
      "metadata": {
        "id": "3kaR59NFgzQD"
      }
    },
    {
      "cell_type": "code",
      "source": [
        "with open('input.txt', 'r', encoding='utf-8') as f:\n",
        "    text = f.read()\n",
        "\n",
        "print(\"length of dataset in characters: \", len(text))\n",
        "# first 1000 characters\n",
        "print(text[:1000])"
      ],
      "metadata": {
        "colab": {
          "base_uri": "https://localhost:8080/"
        },
        "id": "a0Ny-qGFgmNH",
        "outputId": "0fc264f6-57b8-473d-da56-ebef11eb87a7"
      },
      "execution_count": 3,
      "outputs": [
        {
          "output_type": "stream",
          "name": "stdout",
          "text": [
            "length of dataset in characters:  1115394\n",
            "First Citizen:\n",
            "Before we proceed any further, hear me speak.\n",
            "\n",
            "All:\n",
            "Speak, speak.\n",
            "\n",
            "First Citizen:\n",
            "You are all resolved rather to die than to famish?\n",
            "\n",
            "All:\n",
            "Resolved. resolved.\n",
            "\n",
            "First Citizen:\n",
            "First, you know Caius Marcius is chief enemy to the people.\n",
            "\n",
            "All:\n",
            "We know't, we know't.\n",
            "\n",
            "First Citizen:\n",
            "Let us kill him, and we'll have corn at our own price.\n",
            "Is't a verdict?\n",
            "\n",
            "All:\n",
            "No more talking on't; let it be done: away, away!\n",
            "\n",
            "Second Citizen:\n",
            "One word, good citizens.\n",
            "\n",
            "First Citizen:\n",
            "We are accounted poor citizens, the patricians good.\n",
            "What authority surfeits on would relieve us: if they\n",
            "would yield us but the superfluity, while it were\n",
            "wholesome, we might guess they relieved us humanely;\n",
            "but they think we are too dear: the leanness that\n",
            "afflicts us, the object of our misery, is as an\n",
            "inventory to particularise their abundance; our\n",
            "sufferance is a gain to them Let us revenge this with\n",
            "our pikes, ere we become rakes: for the gods know I\n",
            "speak this in hunger for bread, not in thirst for revenge.\n",
            "\n",
            "\n"
          ]
        }
      ]
    },
    {
      "cell_type": "code",
      "source": [
        "# unique chars in the datset\n",
        "chars = sorted(list(set(text)))\n",
        "vocab_size = len(chars)\n",
        "print(''.join(chars))\n",
        "print(vocab_size)"
      ],
      "metadata": {
        "colab": {
          "base_uri": "https://localhost:8080/"
        },
        "id": "c6zU-n_Vg_nV",
        "outputId": "cc33df42-f4ce-4dab-cdf8-aec9c98638f8"
      },
      "execution_count": 4,
      "outputs": [
        {
          "output_type": "stream",
          "name": "stdout",
          "text": [
            "\n",
            " !$&',-.3:;?ABCDEFGHIJKLMNOPQRSTUVWXYZabcdefghijklmnopqrstuvwxyz\n",
            "65\n"
          ]
        }
      ]
    },
    {
      "cell_type": "markdown",
      "source": [
        "build lookup tables and\n",
        "tokenizer\n",
        "- convert raw text(strings) to seq of integers\n",
        "\n",
        "In practice, sub_words are used for tokenization, so for a sentence we will get only a few tokens"
      ],
      "metadata": {
        "id": "jTYUQEBFhSF_"
      }
    },
    {
      "cell_type": "code",
      "source": [
        "stoi_lookup = {char: i for i, char in enumerate(chars)}\n",
        "itos_lookup = {i: char for i,char in enumerate(chars)}\n",
        "# . already in the dataset so no need to add it\n",
        "\n",
        "encode = lambda s: [stoi_lookup[char] for char in s]\n",
        "decode = lambda ix: \"\".join(itos_lookup[i] for i in ix)\n",
        "\n",
        "print(encode(\"rose by any name\"))\n",
        "print(decode(encode(\"rose by any name\")))"
      ],
      "metadata": {
        "colab": {
          "base_uri": "https://localhost:8080/"
        },
        "id": "b6iJe6n1hTq1",
        "outputId": "849dddca-a4ba-4b92-c77a-dde2ad6f0cb7"
      },
      "execution_count": 7,
      "outputs": [
        {
          "output_type": "stream",
          "name": "stdout",
          "text": [
            "[56, 53, 57, 43, 1, 40, 63, 1, 39, 52, 63, 1, 52, 39, 51, 43]\n",
            "rose by any name\n"
          ]
        }
      ]
    },
    {
      "cell_type": "markdown",
      "source": [
        "tokenise the dataset"
      ],
      "metadata": {
        "id": "NmsgeUlSnMMf"
      }
    },
    {
      "cell_type": "code",
      "source": [
        "import torch\n",
        "tokenised_data = torch.tensor(encode(text), dtype=torch.long)\n",
        "print(tokenised_data.shape, tokenised_data.dtype)\n",
        "print(tokenised_data[:1000])"
      ],
      "metadata": {
        "colab": {
          "base_uri": "https://localhost:8080/"
        },
        "id": "I2U0u1IxnRAT",
        "outputId": "e98182c9-374b-459e-e46f-4749a15ec251"
      },
      "execution_count": 8,
      "outputs": [
        {
          "output_type": "stream",
          "name": "stdout",
          "text": [
            "torch.Size([1115394]) torch.int64\n",
            "tensor([18, 47, 56, 57, 58,  1, 15, 47, 58, 47, 64, 43, 52, 10,  0, 14, 43, 44,\n",
            "        53, 56, 43,  1, 61, 43,  1, 54, 56, 53, 41, 43, 43, 42,  1, 39, 52, 63,\n",
            "         1, 44, 59, 56, 58, 46, 43, 56,  6,  1, 46, 43, 39, 56,  1, 51, 43,  1,\n",
            "        57, 54, 43, 39, 49,  8,  0,  0, 13, 50, 50, 10,  0, 31, 54, 43, 39, 49,\n",
            "         6,  1, 57, 54, 43, 39, 49,  8,  0,  0, 18, 47, 56, 57, 58,  1, 15, 47,\n",
            "        58, 47, 64, 43, 52, 10,  0, 37, 53, 59,  1, 39, 56, 43,  1, 39, 50, 50,\n",
            "         1, 56, 43, 57, 53, 50, 60, 43, 42,  1, 56, 39, 58, 46, 43, 56,  1, 58,\n",
            "        53,  1, 42, 47, 43,  1, 58, 46, 39, 52,  1, 58, 53,  1, 44, 39, 51, 47,\n",
            "        57, 46, 12,  0,  0, 13, 50, 50, 10,  0, 30, 43, 57, 53, 50, 60, 43, 42,\n",
            "         8,  1, 56, 43, 57, 53, 50, 60, 43, 42,  8,  0,  0, 18, 47, 56, 57, 58,\n",
            "         1, 15, 47, 58, 47, 64, 43, 52, 10,  0, 18, 47, 56, 57, 58,  6,  1, 63,\n",
            "        53, 59,  1, 49, 52, 53, 61,  1, 15, 39, 47, 59, 57,  1, 25, 39, 56, 41,\n",
            "        47, 59, 57,  1, 47, 57,  1, 41, 46, 47, 43, 44,  1, 43, 52, 43, 51, 63,\n",
            "         1, 58, 53,  1, 58, 46, 43,  1, 54, 43, 53, 54, 50, 43,  8,  0,  0, 13,\n",
            "        50, 50, 10,  0, 35, 43,  1, 49, 52, 53, 61,  5, 58,  6,  1, 61, 43,  1,\n",
            "        49, 52, 53, 61,  5, 58,  8,  0,  0, 18, 47, 56, 57, 58,  1, 15, 47, 58,\n",
            "        47, 64, 43, 52, 10,  0, 24, 43, 58,  1, 59, 57,  1, 49, 47, 50, 50,  1,\n",
            "        46, 47, 51,  6,  1, 39, 52, 42,  1, 61, 43,  5, 50, 50,  1, 46, 39, 60,\n",
            "        43,  1, 41, 53, 56, 52,  1, 39, 58,  1, 53, 59, 56,  1, 53, 61, 52,  1,\n",
            "        54, 56, 47, 41, 43,  8,  0, 21, 57,  5, 58,  1, 39,  1, 60, 43, 56, 42,\n",
            "        47, 41, 58, 12,  0,  0, 13, 50, 50, 10,  0, 26, 53,  1, 51, 53, 56, 43,\n",
            "         1, 58, 39, 50, 49, 47, 52, 45,  1, 53, 52,  5, 58, 11,  1, 50, 43, 58,\n",
            "         1, 47, 58,  1, 40, 43,  1, 42, 53, 52, 43, 10,  1, 39, 61, 39, 63,  6,\n",
            "         1, 39, 61, 39, 63,  2,  0,  0, 31, 43, 41, 53, 52, 42,  1, 15, 47, 58,\n",
            "        47, 64, 43, 52, 10,  0, 27, 52, 43,  1, 61, 53, 56, 42,  6,  1, 45, 53,\n",
            "        53, 42,  1, 41, 47, 58, 47, 64, 43, 52, 57,  8,  0,  0, 18, 47, 56, 57,\n",
            "        58,  1, 15, 47, 58, 47, 64, 43, 52, 10,  0, 35, 43,  1, 39, 56, 43,  1,\n",
            "        39, 41, 41, 53, 59, 52, 58, 43, 42,  1, 54, 53, 53, 56,  1, 41, 47, 58,\n",
            "        47, 64, 43, 52, 57,  6,  1, 58, 46, 43,  1, 54, 39, 58, 56, 47, 41, 47,\n",
            "        39, 52, 57,  1, 45, 53, 53, 42,  8,  0, 35, 46, 39, 58,  1, 39, 59, 58,\n",
            "        46, 53, 56, 47, 58, 63,  1, 57, 59, 56, 44, 43, 47, 58, 57,  1, 53, 52,\n",
            "         1, 61, 53, 59, 50, 42,  1, 56, 43, 50, 47, 43, 60, 43,  1, 59, 57, 10,\n",
            "         1, 47, 44,  1, 58, 46, 43, 63,  0, 61, 53, 59, 50, 42,  1, 63, 47, 43,\n",
            "        50, 42,  1, 59, 57,  1, 40, 59, 58,  1, 58, 46, 43,  1, 57, 59, 54, 43,\n",
            "        56, 44, 50, 59, 47, 58, 63,  6,  1, 61, 46, 47, 50, 43,  1, 47, 58,  1,\n",
            "        61, 43, 56, 43,  0, 61, 46, 53, 50, 43, 57, 53, 51, 43,  6,  1, 61, 43,\n",
            "         1, 51, 47, 45, 46, 58,  1, 45, 59, 43, 57, 57,  1, 58, 46, 43, 63,  1,\n",
            "        56, 43, 50, 47, 43, 60, 43, 42,  1, 59, 57,  1, 46, 59, 51, 39, 52, 43,\n",
            "        50, 63, 11,  0, 40, 59, 58,  1, 58, 46, 43, 63,  1, 58, 46, 47, 52, 49,\n",
            "         1, 61, 43,  1, 39, 56, 43,  1, 58, 53, 53,  1, 42, 43, 39, 56, 10,  1,\n",
            "        58, 46, 43,  1, 50, 43, 39, 52, 52, 43, 57, 57,  1, 58, 46, 39, 58,  0,\n",
            "        39, 44, 44, 50, 47, 41, 58, 57,  1, 59, 57,  6,  1, 58, 46, 43,  1, 53,\n",
            "        40, 48, 43, 41, 58,  1, 53, 44,  1, 53, 59, 56,  1, 51, 47, 57, 43, 56,\n",
            "        63,  6,  1, 47, 57,  1, 39, 57,  1, 39, 52,  0, 47, 52, 60, 43, 52, 58,\n",
            "        53, 56, 63,  1, 58, 53,  1, 54, 39, 56, 58, 47, 41, 59, 50, 39, 56, 47,\n",
            "        57, 43,  1, 58, 46, 43, 47, 56,  1, 39, 40, 59, 52, 42, 39, 52, 41, 43,\n",
            "        11,  1, 53, 59, 56,  0, 57, 59, 44, 44, 43, 56, 39, 52, 41, 43,  1, 47,\n",
            "        57,  1, 39,  1, 45, 39, 47, 52,  1, 58, 53,  1, 58, 46, 43, 51,  1, 24,\n",
            "        43, 58,  1, 59, 57,  1, 56, 43, 60, 43, 52, 45, 43,  1, 58, 46, 47, 57,\n",
            "         1, 61, 47, 58, 46,  0, 53, 59, 56,  1, 54, 47, 49, 43, 57,  6,  1, 43,\n",
            "        56, 43,  1, 61, 43,  1, 40, 43, 41, 53, 51, 43,  1, 56, 39, 49, 43, 57,\n",
            "        10,  1, 44, 53, 56,  1, 58, 46, 43,  1, 45, 53, 42, 57,  1, 49, 52, 53,\n",
            "        61,  1, 21,  0, 57, 54, 43, 39, 49,  1, 58, 46, 47, 57,  1, 47, 52,  1,\n",
            "        46, 59, 52, 45, 43, 56,  1, 44, 53, 56,  1, 40, 56, 43, 39, 42,  6,  1,\n",
            "        52, 53, 58,  1, 47, 52,  1, 58, 46, 47, 56, 57, 58,  1, 44, 53, 56,  1,\n",
            "        56, 43, 60, 43, 52, 45, 43,  8,  0,  0])\n"
          ]
        }
      ]
    },
    {
      "cell_type": "markdown",
      "source": [
        "train, val split"
      ],
      "metadata": {
        "id": "TdXOXCkBn8PA"
      }
    },
    {
      "cell_type": "code",
      "source": [
        "train_w_end = int(0.9 * len(tokenised_data))\n",
        "x_tr = tokenised_data[:train_w_end]\n",
        "x_val = tokenised_data[train_w_end:]\n",
        "print(x_tr.shape, x_val.shape)"
      ],
      "metadata": {
        "colab": {
          "base_uri": "https://localhost:8080/"
        },
        "id": "V9RbFZkgn96X",
        "outputId": "99ea4ee1-ecd6-410a-e3c3-0550aea00a4f"
      },
      "execution_count": 11,
      "outputs": [
        {
          "output_type": "stream",
          "name": "stdout",
          "text": [
            "torch.Size([1003854]) torch.Size([111540])\n"
          ]
        }
      ]
    },
    {
      "cell_type": "code",
      "source": [
        "block_size = 8\n",
        "x_tr[:block_size]+1"
      ],
      "metadata": {
        "colab": {
          "base_uri": "https://localhost:8080/"
        },
        "id": "Xdl46acloQEb",
        "outputId": "1a090763-a3d7-4dbc-8d4a-7d4a299ce8fd"
      },
      "execution_count": 12,
      "outputs": [
        {
          "output_type": "execute_result",
          "data": {
            "text/plain": [
              "tensor([19, 48, 57, 58, 59,  2, 16, 48])"
            ]
          },
          "metadata": {},
          "execution_count": 12
        }
      ]
    },
    {
      "cell_type": "code",
      "source": [
        "x = x_tr[:block_size]\n",
        "y = x_tr[1:block_size+1]\n",
        "\n",
        "for i in range(block_size):\n",
        "  context = x[:i+1]\n",
        "  target = y[i]\n",
        "  print(f\"when input is {context} the target: {target}\")"
      ],
      "metadata": {
        "colab": {
          "base_uri": "https://localhost:8080/"
        },
        "id": "nw8JHkmorWv4",
        "outputId": "d5baa330-b025-45cf-b33c-4911da2bada5"
      },
      "execution_count": 13,
      "outputs": [
        {
          "output_type": "stream",
          "name": "stdout",
          "text": [
            "when input is tensor([18]) the target: 47\n",
            "when input is tensor([18, 47]) the target: 56\n",
            "when input is tensor([18, 47, 56]) the target: 57\n",
            "when input is tensor([18, 47, 56, 57]) the target: 58\n",
            "when input is tensor([18, 47, 56, 57, 58]) the target: 1\n",
            "when input is tensor([18, 47, 56, 57, 58,  1]) the target: 15\n",
            "when input is tensor([18, 47, 56, 57, 58,  1, 15]) the target: 47\n",
            "when input is tensor([18, 47, 56, 57, 58,  1, 15, 47]) the target: 58\n"
          ]
        }
      ]
    },
    {
      "cell_type": "code",
      "source": [
        "torch.manual_seed(1337)\n",
        "batch_size = 4 # sequences for parallel processing\n",
        "block_size = 8\n",
        "\n",
        "def get_batch(split):\n",
        "  # minibatch construct\n",
        "  data = x_tr if split == 'train' else x_val\n",
        "  ix = torch.randint(len(data) - block_size, (batch_size,))\n",
        "  x = torch.stack([data[i: i + block_size] for i in ix]) # stack rows\n",
        "  y = torch.stack([data[i+1: i + (block_size+1)] for i in ix])\n",
        "  return x, y\n",
        "\n",
        "\n",
        "xb, yb = get_batch('train')\n",
        "print('contexts:', xb.shape,)\n",
        "print(xb, '\\n')\n",
        "print('targets:', yb.shape)\n",
        "print(yb)\n",
        "\n",
        "print('\\n')\n",
        "\n",
        "for b_i in range(batch_size):\n",
        "  for ix in range(block_size):\n",
        "    context = xb[b_i, :ix+1]\n",
        "    target = yb[b_i, ix]\n",
        "    print(f\"for the input {context.tolist()} the target is: {target}\")\n",
        "\n"
      ],
      "metadata": {
        "colab": {
          "base_uri": "https://localhost:8080/"
        },
        "id": "FG7tHl9Prroj",
        "outputId": "d0f384df-fc5e-49eb-e5ed-5fe202130fbc"
      },
      "execution_count": 24,
      "outputs": [
        {
          "output_type": "stream",
          "name": "stdout",
          "text": [
            "contexts: torch.Size([4, 8])\n",
            "tensor([[24, 43, 58,  5, 57,  1, 46, 43],\n",
            "        [44, 53, 56,  1, 58, 46, 39, 58],\n",
            "        [52, 58,  1, 58, 46, 39, 58,  1],\n",
            "        [25, 17, 27, 10,  0, 21,  1, 54]]) \n",
            "\n",
            "targets: torch.Size([4, 8])\n",
            "tensor([[43, 58,  5, 57,  1, 46, 43, 39],\n",
            "        [53, 56,  1, 58, 46, 39, 58,  1],\n",
            "        [58,  1, 58, 46, 39, 58,  1, 46],\n",
            "        [17, 27, 10,  0, 21,  1, 54, 39]])\n",
            "\n",
            "\n",
            "for the input [24] the target is: 43\n",
            "for the input [24, 43] the target is: 58\n",
            "for the input [24, 43, 58] the target is: 5\n",
            "for the input [24, 43, 58, 5] the target is: 57\n",
            "for the input [24, 43, 58, 5, 57] the target is: 1\n",
            "for the input [24, 43, 58, 5, 57, 1] the target is: 46\n",
            "for the input [24, 43, 58, 5, 57, 1, 46] the target is: 43\n",
            "for the input [24, 43, 58, 5, 57, 1, 46, 43] the target is: 39\n",
            "for the input [44] the target is: 53\n",
            "for the input [44, 53] the target is: 56\n",
            "for the input [44, 53, 56] the target is: 1\n",
            "for the input [44, 53, 56, 1] the target is: 58\n",
            "for the input [44, 53, 56, 1, 58] the target is: 46\n",
            "for the input [44, 53, 56, 1, 58, 46] the target is: 39\n",
            "for the input [44, 53, 56, 1, 58, 46, 39] the target is: 58\n",
            "for the input [44, 53, 56, 1, 58, 46, 39, 58] the target is: 1\n",
            "for the input [52] the target is: 58\n",
            "for the input [52, 58] the target is: 1\n",
            "for the input [52, 58, 1] the target is: 58\n",
            "for the input [52, 58, 1, 58] the target is: 46\n",
            "for the input [52, 58, 1, 58, 46] the target is: 39\n",
            "for the input [52, 58, 1, 58, 46, 39] the target is: 58\n",
            "for the input [52, 58, 1, 58, 46, 39, 58] the target is: 1\n",
            "for the input [52, 58, 1, 58, 46, 39, 58, 1] the target is: 46\n",
            "for the input [25] the target is: 17\n",
            "for the input [25, 17] the target is: 27\n",
            "for the input [25, 17, 27] the target is: 10\n",
            "for the input [25, 17, 27, 10] the target is: 0\n",
            "for the input [25, 17, 27, 10, 0] the target is: 21\n",
            "for the input [25, 17, 27, 10, 0, 21] the target is: 1\n",
            "for the input [25, 17, 27, 10, 0, 21, 1] the target is: 54\n",
            "for the input [25, 17, 27, 10, 0, 21, 1, 54] the target is: 39\n"
          ]
        }
      ]
    },
    {
      "cell_type": "markdown",
      "source": [
        "Bigram LM - uses counts for calculating the probs"
      ],
      "metadata": {
        "id": "Gu0-1-vKy2zI"
      }
    },
    {
      "cell_type": "code",
      "source": [
        "import torch.nn as nn\n",
        "from torch.nn import functional as F\n",
        "\n",
        "\n",
        "torch.manual_seed(1337)\n",
        "\n",
        "class BigramLM(nn.Module):\n",
        "  def __init__(self, vocab_size):\n",
        "    super().__init__()\n",
        "    # store the embeddings\n",
        "    self.token_embeddings = nn.Embedding(num_embeddings=vocab_size, embedding_dim=vocab_size) # dict of len vocab_size with each value for vector with dim vocab_size\n",
        "\n",
        "  def forward(self, i_xb, target=None):\n",
        "    # forward a mini_batch of size batch_size with each tensor having context as the input\n",
        "\n",
        "    # 1. caculcate the logits\n",
        "    logits = self.token_embeddings(i_xb)              # B, T, C - batch, time, channel\n",
        "\n",
        "    # print(logits.shape)\n",
        "\n",
        "    if target is not None:\n",
        "      B, T, C = logits.shape\n",
        "      # 2. calculate the loss - nll/cross_entropy\n",
        "      loss = F.cross_entropy(logits.view(B*T, C), target.view(B*T))            # cross_entropy only accepts ((C), (N,C) (N,C)), N - batch_size\n",
        "    else:\n",
        "      loss = None\n",
        "\n",
        "    return logits, loss\n",
        "\n",
        "  def generate(self, ix, max_new_tokens):\n",
        "    # ix is (B, T) i.e (batch, time) => (4, 8)\n",
        "    for _ in range(max_new_tokens):\n",
        "      # get the targets\n",
        "      logits, _ = self(ix)\n",
        "      # what comes next in the sequence? the last char in the time dimension i.e context\n",
        "      logits = logits[:, -1, :]\n",
        "      probs = F.softmax(logits, dim=-1)\n",
        "      # sampling for the next char from the dist\n",
        "      next_ix = torch.multinomial(probs, num_samples=1)\n",
        "      ix = torch.cat((ix, next_ix), dim=1) # running sampled indices for generating the next chars in the sequence\n",
        "    return ix\n",
        "\n",
        "\n",
        "\n",
        "bi_model = BigramLM(vocab_size)\n",
        "logits, loss = bi_model(xb, yb)\n",
        "print(xb.shape, yb.shape)\n",
        "print(logits.shape)  # 4, 8, 65\n",
        "print('loss is higher very high, ', loss.item() if loss > torch.log(torch.tensor(1/65)) else 'loss is ok')\n",
        "\n",
        "ix = torch.zeros((1, 1), dtype=torch.long) # start from a newline char(0)\n",
        "generated_ix = bi_model.generate(ix, max_new_tokens=100)\n",
        "# print(generated_ix[0])\n",
        "print('generated text: ', decode(generated_ix[0].tolist()))\n"
      ],
      "metadata": {
        "colab": {
          "base_uri": "https://localhost:8080/"
        },
        "id": "-NLr062yy8ER",
        "outputId": "2258cb9a-3d59-4280-cb59-a2de03743ac2"
      },
      "execution_count": 54,
      "outputs": [
        {
          "output_type": "stream",
          "name": "stdout",
          "text": [
            "torch.Size([32, 8]) torch.Size([32, 8])\n",
            "torch.Size([32, 8, 65])\n",
            "loss is higher very high,  4.794318199157715\n",
            "generated text:  \n",
            "Sr?qP-QWktXoL&jLDJgOLVz'RIoDqHdhsV&vLLxatjscMpwLERSPyao.qfzs$Ys$zF-w,;eEkzxjgCKFChs!iWW.ObzDnxA Ms$3\n"
          ]
        }
      ]
    },
    {
      "cell_type": "markdown",
      "source": [
        "training the BigramML"
      ],
      "metadata": {
        "id": "RqkrXTto9HM5"
      }
    },
    {
      "cell_type": "code",
      "source": [
        "optimizer = torch.optim.AdamW(bi_model.parameters(), lr=1e-3) # Adam instead of SGD, learning rate = 0.001\n",
        "\n",
        "batch_size = 32\n",
        "\n",
        "for step in range(20000):\n",
        "  xb, yb = get_batch('train')\n",
        "  # forward pass\n",
        "  logits, loss = bi_model(xb, yb)\n",
        "  # backward pass\n",
        "  optimizer.zero_grad(set_to_none=True) # set grad= 0 from the prev steps as usual\n",
        "  loss.backward()\n",
        "  # update the model params\n",
        "  optimizer.step()\n",
        "  if step % 1000 == 0:\n",
        "    print(f\"step: {step}, loss: {loss.item()}\")\n",
        "\n",
        "print(loss.item())"
      ],
      "metadata": {
        "colab": {
          "base_uri": "https://localhost:8080/"
        },
        "id": "ok3qxAXR9JqM",
        "outputId": "49abd1a1-0065-4122-c79c-b4d740be0f03"
      },
      "execution_count": 55,
      "outputs": [
        {
          "output_type": "stream",
          "name": "stdout",
          "text": [
            "step: 0, loss: 4.704006195068359\n",
            "step: 1000, loss: 3.7031264305114746\n",
            "step: 2000, loss: 3.1371781826019287\n",
            "step: 3000, loss: 2.776794672012329\n",
            "step: 4000, loss: 2.5844571590423584\n",
            "step: 5000, loss: 2.5105180740356445\n",
            "step: 6000, loss: 2.531585931777954\n",
            "step: 7000, loss: 2.504757881164551\n",
            "step: 8000, loss: 2.4696712493896484\n",
            "step: 9000, loss: 2.4838879108428955\n",
            "step: 10000, loss: 2.4183998107910156\n",
            "step: 11000, loss: 2.529956817626953\n",
            "step: 12000, loss: 2.379727363586426\n",
            "step: 13000, loss: 2.4651365280151367\n",
            "step: 14000, loss: 2.3533310890197754\n",
            "step: 15000, loss: 2.4624433517456055\n",
            "step: 16000, loss: 2.4509522914886475\n",
            "step: 17000, loss: 2.325801372528076\n",
            "step: 18000, loss: 2.4357123374938965\n",
            "step: 19000, loss: 2.4936013221740723\n",
            "2.4832067489624023\n"
          ]
        }
      ]
    },
    {
      "cell_type": "markdown",
      "source": [
        "sampling from the model"
      ],
      "metadata": {
        "id": "rb-uOv4CDeMq"
      }
    },
    {
      "cell_type": "code",
      "source": [
        "ix = torch.zeros((1, 1), dtype=torch.long) # start from a newline char(0)\n",
        "generated_ix = bi_model.generate(ix, max_new_tokens=500)\n",
        "# print(generated_ix[0])\n",
        "print('generated text: ', decode(generated_ix[0].tolist()))"
      ],
      "metadata": {
        "colab": {
          "base_uri": "https://localhost:8080/"
        },
        "id": "tGarBTPWDfYo",
        "outputId": "4bc2253e-0a43-49ab-d478-a3b0598a43b0"
      },
      "execution_count": 57,
      "outputs": [
        {
          "output_type": "stream",
          "name": "stdout",
          "text": [
            "generated text:  \n",
            "fithods misue, knild he I:\n",
            "Whe! toudirer' My ayosbly louroura s m', uthos s reveprthoukerdi't avorure fotemowe.\n",
            "Whamo es t, tstt g t RTRushy,\n",
            "WAsbr spr my ou pl y,\n",
            "Witoft at o s me,\n",
            "Whabr'the Cicuomants awonte qungur thme wrar d parsupl by:\n",
            "'sul ve ave,\n",
            "Kconit ped bim; fam elathelch easutlll teye A d che'd, met its\n",
            "\n",
            "IVo wnkn cave!\n",
            "I thengr ts, IO t\n",
            "Hoyoolove\n",
            "ONCENo breppo onder t this r is.\n",
            "I ckend haiby Lulfaseabot alt mpw thar, d is cthe parn gers b, ace t d t tllined y sss u dst hothin h.\n",
            "An,\n"
          ]
        }
      ]
    }
  ]
}